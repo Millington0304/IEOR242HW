{
 "cells": [
  {
   "cell_type": "code",
   "execution_count": 1,
   "metadata": {},
   "outputs": [],
   "source": [
    "import pandas as pd\n",
    "df=pd.read_csv('Accord-242A-Fall24.csv')"
   ]
  },
  {
   "cell_type": "code",
   "execution_count": 2,
   "metadata": {},
   "outputs": [
    {
     "data": {
      "text/plain": [
       "Index(['MonthNumeric', 'MonthFactor', 'Year', 'AccordSales', 'Unemployment',\n",
       "       'AccordQueries', 'CPIAll', 'CPIEnergy', 'MilesTraveled'],\n",
       "      dtype='object')"
      ]
     },
     "execution_count": 2,
     "metadata": {},
     "output_type": "execute_result"
    }
   ],
   "source": [
    "df.columns"
   ]
  },
  {
   "cell_type": "code",
   "execution_count": 3,
   "metadata": {},
   "outputs": [],
   "source": [
    "# df['CPIAll'] = (df['CPIAll'] / df['CPIAll'].shift(1))*1000-1000\n",
    "# df['CPIEnergy'] = (df['CPIEnergy'] / df['CPIEnergy'].shift(1))*1000-1000\n",
    "# df=df.drop(0)"
   ]
  },
  {
   "cell_type": "code",
   "execution_count": 4,
   "metadata": {},
   "outputs": [],
   "source": [
    "month_dummy = pd.get_dummies(df['MonthFactor'], prefix='Is', drop_first=True,dtype=int)\n",
    "df = pd.concat([df, month_dummy], axis=1)"
   ]
  },
  {
   "cell_type": "code",
   "execution_count": 5,
   "metadata": {},
   "outputs": [],
   "source": [
    "Train = df[(df['Year'] <= 2018)]\n",
    "Test = df[(df['Year'] >= 2019) & (df['Year'] < 2023)]"
   ]
  },
  {
   "cell_type": "code",
   "execution_count": 6,
   "metadata": {},
   "outputs": [
    {
     "name": "stdout",
     "output_type": "stream",
     "text": [
      "                            OLS Regression Results                            \n",
      "==============================================================================\n",
      "Dep. Variable:            AccordSales   R-squared:                       0.227\n",
      "Model:                            OLS   Adj. R-squared:                  0.185\n",
      "Method:                 Least Squares   F-statistic:                     5.475\n",
      "Date:                Mon, 23 Sep 2024   Prob (F-statistic):            0.00227\n",
      "Time:                        19:06:00   Log-Likelihood:                -596.69\n",
      "No. Observations:                  60   AIC:                             1201.\n",
      "Df Residuals:                      56   BIC:                             1210.\n",
      "Df Model:                           3                                         \n",
      "Covariance Type:            nonrobust                                         \n",
      "=================================================================================\n",
      "                    coef    std err          t      P>|t|      [0.025      0.975]\n",
      "---------------------------------------------------------------------------------\n",
      "const          1.419e+05   3.36e+04      4.224      0.000    7.46e+04    2.09e+05\n",
      "CPIAll         -610.9156    161.762     -3.777      0.000    -934.963    -286.868\n",
      "CPIEnergy        67.0291     35.720      1.877      0.066      -4.527     138.585\n",
      "AccordQueries   245.2054    112.546      2.179      0.034      19.749     470.662\n",
      "==============================================================================\n",
      "Omnibus:                        8.025   Durbin-Watson:                   1.390\n",
      "Prob(Omnibus):                  0.018   Jarque-Bera (JB):                9.328\n",
      "Skew:                           0.526   Prob(JB):                      0.00943\n",
      "Kurtosis:                       4.620   Cond. No.                     1.66e+04\n",
      "==============================================================================\n",
      "\n",
      "Notes:\n",
      "[1] Standard Errors assume that the covariance matrix of the errors is correctly specified.\n",
      "[2] The condition number is large, 1.66e+04. This might indicate that there are\n",
      "strong multicollinearity or other numerical problems.\n"
     ]
    }
   ],
   "source": [
    "x_train = Train[['CPIAll', 'CPIEnergy', 'AccordQueries']]\n",
    "y_train = Train['AccordSales']\n",
    "import statsmodels.api as sm\n",
    "X_train=sm.add_constant(x_train)\n",
    "model=sm.OLS(y_train,X_train).fit()\n",
    "print(model.summary())"
   ]
  },
  {
   "cell_type": "code",
   "execution_count": 7,
   "metadata": {},
   "outputs": [],
   "source": [
    "import numpy as np\n",
    "def OSR2(model, df_train, df_test, dependent_var):\n",
    "    y_test = df_test[dependent_var]\n",
    "    y_pred = model.predict(df_test)\n",
    "    SSE = np.sum((y_test - y_pred)**2)\n",
    "    SST = np.sum((y_test - np.mean(df_train[dependent_var]))**2)\n",
    "    return 1 - SSE/SST\n",
    "\n",
    "def OSR2(y_test, y_pred, y_train):\n",
    "    SSE = np.sum((y_test - y_pred)**2)\n",
    "    SST = np.sum((y_test - np.mean(y_train))**2)\n",
    "    return 1 - SSE/SST"
   ]
  },
  {
   "cell_type": "code",
   "execution_count": 8,
   "metadata": {},
   "outputs": [
    {
     "name": "stdout",
     "output_type": "stream",
     "text": [
      "0.7162040279726278\n"
     ]
    }
   ],
   "source": [
    "x_test = Test[['CPIAll', 'CPIEnergy', 'AccordQueries']]\n",
    "y_test = Test['AccordSales']\n",
    "X_test=sm.add_constant(x_test)\n",
    "\n",
    "y_pred = model.predict(X_test)\n",
    "print(OSR2(y_test,y_pred,y_train))"
   ]
  },
  {
   "cell_type": "code",
   "execution_count": 9,
   "metadata": {},
   "outputs": [],
   "source": [
    "import numpy as np\n",
    "x_train=Train.iloc[:,4:]\n",
    "y_train=Train['AccordSales']\n",
    "x_test=Test.iloc[:,4:]\n",
    "y_test=Test['AccordSales']\n",
    "test_year=Test['Year']"
   ]
  },
  {
   "cell_type": "code",
   "execution_count": 10,
   "metadata": {},
   "outputs": [],
   "source": [
    "#x_train=x_train.drop('4 WEEKS COUPON EQUIVALENT')"
   ]
  },
  {
   "cell_type": "code",
   "execution_count": 11,
   "metadata": {},
   "outputs": [],
   "source": [
    "x_train=x_train.drop(columns=['Is_October','Is_March','Is_June','Is_July','Is_November','Is_September','Unemployment','MilesTraveled'])\n",
    "x_test=x_test.drop(columns=['Is_October','Is_March','Is_June','Is_July','Is_November','Is_September','Unemployment','MilesTraveled'])"
   ]
  },
  {
   "cell_type": "code",
   "execution_count": 12,
   "metadata": {},
   "outputs": [],
   "source": [
    "#from sklearn.model_selection import train_test_split\n",
    "#X_train,X_test,Y_train,Y_test=train_test_split(X,Y,test_size=0.25,random_state=42)"
   ]
  },
  {
   "cell_type": "code",
   "execution_count": 13,
   "metadata": {},
   "outputs": [
    {
     "name": "stdout",
     "output_type": "stream",
     "text": [
      "               Unemployment  AccordQueries    CPIAll  CPIEnergy  \\\n",
      "Unemployment       1.000000      -0.679005 -0.885009   0.441073   \n",
      "AccordQueries     -0.679005       1.000000  0.658533  -0.208894   \n",
      "CPIAll            -0.885009       0.658533  1.000000  -0.014197   \n",
      "CPIEnergy          0.441073      -0.208894 -0.014197   1.000000   \n",
      "MilesTraveled     -0.946057       0.673330  0.858453  -0.466227   \n",
      "Is_August         -0.018596       0.212497  0.031582   0.022351   \n",
      "Is_December       -0.092979      -0.211279  0.078161  -0.075891   \n",
      "Is_February        0.092979      -0.035923 -0.087861  -0.019737   \n",
      "Is_January         0.092979      -0.152827 -0.104997  -0.007093   \n",
      "Is_July           -0.018596       0.365933  0.012319   0.016358   \n",
      "Is_June            0.003719       0.132125  0.003740   0.041152   \n",
      "Is_March           0.070664       0.066367 -0.068608  -0.011791   \n",
      "Is_May             0.026034       0.073674 -0.017939   0.019254   \n",
      "Is_November       -0.070664      -0.211279  0.074747  -0.024581   \n",
      "Is_October        -0.078102      -0.079762  0.068283   0.009179   \n",
      "Is_September      -0.055787      -0.094375  0.051812   0.023879   \n",
      "\n",
      "               MilesTraveled  Is_August  Is_December  Is_February  Is_January  \\\n",
      "Unemployment       -0.946057  -0.018596    -0.092979     0.092979    0.092979   \n",
      "AccordQueries       0.673330   0.212497    -0.211279    -0.035923   -0.152827   \n",
      "CPIAll              0.858453   0.031582     0.078161    -0.087861   -0.104997   \n",
      "CPIEnergy          -0.466227   0.022351    -0.075891    -0.019737   -0.007093   \n",
      "MilesTraveled       1.000000  -0.010290     0.191688    -0.114198   -0.112266   \n",
      "Is_August          -0.010290   1.000000    -0.090909    -0.090909   -0.090909   \n",
      "Is_December         0.191688  -0.090909     1.000000    -0.090909   -0.090909   \n",
      "Is_February        -0.114198  -0.090909    -0.090909     1.000000   -0.090909   \n",
      "Is_January         -0.112266  -0.090909    -0.090909    -0.090909    1.000000   \n",
      "Is_July             0.033208  -0.090909    -0.090909    -0.090909   -0.090909   \n",
      "Is_June            -0.014206  -0.090909    -0.090909    -0.090909   -0.090909   \n",
      "Is_March           -0.078066  -0.090909    -0.090909    -0.090909   -0.090909   \n",
      "Is_May             -0.033286  -0.090909    -0.090909    -0.090909   -0.090909   \n",
      "Is_November         0.032471  -0.090909    -0.090909    -0.090909   -0.090909   \n",
      "Is_October          0.046708  -0.090909    -0.090909    -0.090909   -0.090909   \n",
      "Is_September        0.001529  -0.090909    -0.090909    -0.090909   -0.090909   \n",
      "\n",
      "                Is_July   Is_June  Is_March    Is_May  Is_November  \\\n",
      "Unemployment  -0.018596  0.003719  0.070664  0.026034    -0.070664   \n",
      "AccordQueries  0.365933  0.132125  0.066367  0.073674    -0.211279   \n",
      "CPIAll         0.012319  0.003740 -0.068608 -0.017939     0.074747   \n",
      "CPIEnergy      0.016358  0.041152 -0.011791  0.019254    -0.024581   \n",
      "MilesTraveled  0.033208 -0.014206 -0.078066 -0.033286     0.032471   \n",
      "Is_August     -0.090909 -0.090909 -0.090909 -0.090909    -0.090909   \n",
      "Is_December   -0.090909 -0.090909 -0.090909 -0.090909    -0.090909   \n",
      "Is_February   -0.090909 -0.090909 -0.090909 -0.090909    -0.090909   \n",
      "Is_January    -0.090909 -0.090909 -0.090909 -0.090909    -0.090909   \n",
      "Is_July        1.000000 -0.090909 -0.090909 -0.090909    -0.090909   \n",
      "Is_June       -0.090909  1.000000 -0.090909 -0.090909    -0.090909   \n",
      "Is_March      -0.090909 -0.090909  1.000000 -0.090909    -0.090909   \n",
      "Is_May        -0.090909 -0.090909 -0.090909  1.000000    -0.090909   \n",
      "Is_November   -0.090909 -0.090909 -0.090909 -0.090909     1.000000   \n",
      "Is_October    -0.090909 -0.090909 -0.090909 -0.090909    -0.090909   \n",
      "Is_September  -0.090909 -0.090909 -0.090909 -0.090909    -0.090909   \n",
      "\n",
      "               Is_October  Is_September  \n",
      "Unemployment    -0.078102     -0.055787  \n",
      "AccordQueries   -0.079762     -0.094375  \n",
      "CPIAll           0.068283      0.051812  \n",
      "CPIEnergy        0.009179      0.023879  \n",
      "MilesTraveled    0.046708      0.001529  \n",
      "Is_August       -0.090909     -0.090909  \n",
      "Is_December     -0.090909     -0.090909  \n",
      "Is_February     -0.090909     -0.090909  \n",
      "Is_January      -0.090909     -0.090909  \n",
      "Is_July         -0.090909     -0.090909  \n",
      "Is_June         -0.090909     -0.090909  \n",
      "Is_March        -0.090909     -0.090909  \n",
      "Is_May          -0.090909     -0.090909  \n",
      "Is_November     -0.090909     -0.090909  \n",
      "Is_October       1.000000     -0.090909  \n",
      "Is_September    -0.090909      1.000000  \n"
     ]
    }
   ],
   "source": [
    "print(Train.iloc[:,4:].corr())"
   ]
  },
  {
   "cell_type": "code",
   "execution_count": 14,
   "metadata": {},
   "outputs": [],
   "source": [
    "#correlation_table = x_train.corr()\n",
    "#print(correlation_table)"
   ]
  },
  {
   "cell_type": "code",
   "execution_count": 15,
   "metadata": {},
   "outputs": [
    {
     "name": "stdout",
     "output_type": "stream",
     "text": [
      "                            OLS Regression Results                            \n",
      "==============================================================================\n",
      "Dep. Variable:            AccordSales   R-squared:                       0.709\n",
      "Model:                            OLS   Adj. R-squared:                  0.663\n",
      "Method:                 Least Squares   F-statistic:                     15.52\n",
      "Date:                Mon, 23 Sep 2024   Prob (F-statistic):           2.81e-11\n",
      "Time:                        19:06:00   Log-Likelihood:                -567.40\n",
      "No. Observations:                  60   AIC:                             1153.\n",
      "Df Residuals:                      51   BIC:                             1172.\n",
      "Df Model:                           8                                         \n",
      "Covariance Type:            nonrobust                                         \n",
      "=================================================================================\n",
      "                    coef    std err          t      P>|t|      [0.025      0.975]\n",
      "---------------------------------------------------------------------------------\n",
      "const           1.55e+05   2.25e+04      6.897      0.000     1.1e+05       2e+05\n",
      "AccordQueries   167.1763     82.518      2.026      0.048       1.515     332.837\n",
      "CPIAll         -631.0877    112.204     -5.624      0.000    -856.346    -405.829\n",
      "CPIEnergy        58.5122     23.568      2.483      0.016      11.198     105.827\n",
      "Is_August      6674.1030   1660.632      4.019      0.000    3340.244       1e+04\n",
      "Is_December    3995.0125   1739.419      2.297      0.026     502.983    7487.042\n",
      "Is_February   -6160.0864   1612.755     -3.820      0.000   -9397.826   -2922.346\n",
      "Is_January    -9002.1922   1628.458     -5.528      0.000   -1.23e+04   -5732.927\n",
      "Is_May         4109.6187   1616.365      2.543      0.014     864.630    7354.608\n",
      "==============================================================================\n",
      "Omnibus:                        7.181   Durbin-Watson:                   1.560\n",
      "Prob(Omnibus):                  0.028   Jarque-Bera (JB):               10.201\n",
      "Skew:                           0.329   Prob(JB):                      0.00609\n",
      "Kurtosis:                       4.910   Cond. No.                     1.72e+04\n",
      "==============================================================================\n",
      "\n",
      "Notes:\n",
      "[1] Standard Errors assume that the covariance matrix of the errors is correctly specified.\n",
      "[2] The condition number is large, 1.72e+04. This might indicate that there are\n",
      "strong multicollinearity or other numerical problems.\n"
     ]
    }
   ],
   "source": [
    "import statsmodels.api as sm\n",
    "X_train=sm.add_constant(x_train)\n",
    "X_test=sm.add_constant(x_test)\n",
    "model=sm.OLS(y_train,X_train).fit()\n",
    "print(model.summary())"
   ]
  },
  {
   "cell_type": "code",
   "execution_count": 16,
   "metadata": {},
   "outputs": [
    {
     "name": "stdout",
     "output_type": "stream",
     "text": [
      "$155018.2 + 167.2*\\text{AccordQueries}  -631.1*\\text{CPIAll} + 58.5*\\text{CPIEnergy} + 6674.1*\\text{IsAugust} + 3995.0*\\text{IsDecember}  -6160.1*\\text{IsFebruary}  -9002.2*\\text{IsJanuary} + 4109.6*\\text{IsMay} $\n"
     ]
    },
    {
     "name": "stderr",
     "output_type": "stream",
     "text": [
      "C:\\Users\\Milli\\AppData\\Local\\Temp\\ipykernel_14704\\954209716.py:1: FutureWarning: Series.__getitem__ treating keys as positions is deprecated. In a future version, integer keys will always be treated as labels (consistent with DataFrame behavior). To access a value by position, use `ser.iloc[pos]`\n",
      "  s=\"$\"+str(model.params[0].round(1))+\" \"\n",
      "C:\\Users\\Milli\\AppData\\Local\\Temp\\ipykernel_14704\\954209716.py:3: FutureWarning: Series.__getitem__ treating keys as positions is deprecated. In a future version, integer keys will always be treated as labels (consistent with DataFrame behavior). To access a value by position, use `ser.iloc[pos]`\n",
      "  if(model.params[i+1]>0):\n",
      "C:\\Users\\Milli\\AppData\\Local\\Temp\\ipykernel_14704\\954209716.py:5: FutureWarning: Series.__getitem__ treating keys as positions is deprecated. In a future version, integer keys will always be treated as labels (consistent with DataFrame behavior). To access a value by position, use `ser.iloc[pos]`\n",
      "  s+=\" \"+str(model.params[i+1].round(1))\n"
     ]
    }
   ],
   "source": [
    "s=\"$\"+str(model.params[0].round(1))+\" \"\n",
    "for i in range(len(x_train.columns)):\n",
    "    if(model.params[i+1]>0):\n",
    "        s+=\"+\"\n",
    "    s+=\" \"+str(model.params[i+1].round(1))\n",
    "    s+=\"*\\\\text{\"+str(x_train.columns[i].replace(\"_\",\"\"))+\"} \"\n",
    "s+=\"$\"\n",
    "print(s)"
   ]
  },
  {
   "cell_type": "code",
   "execution_count": 17,
   "metadata": {},
   "outputs": [
    {
     "name": "stdout",
     "output_type": "stream",
     "text": [
      "0.6449929578781157\n"
     ]
    }
   ],
   "source": [
    "y_pred = model.predict(X_test)\n",
    "print(OSR2(y_test,y_pred,y_train))"
   ]
  },
  {
   "cell_type": "code",
   "execution_count": 18,
   "metadata": {},
   "outputs": [
    {
     "data": {
      "text/plain": [
       "-1.3130735897788086"
      ]
     },
     "execution_count": 18,
     "metadata": {},
     "output_type": "execute_result"
    }
   ],
   "source": [
    "import sklearn.metrics\n",
    "y_pred = model.predict(X_test)\n",
    "sklearn.metrics.r2_score(y_test, y_pred)"
   ]
  },
  {
   "cell_type": "code",
   "execution_count": 19,
   "metadata": {},
   "outputs": [
    {
     "data": {
      "text/plain": [
       "<matplotlib.legend.Legend at 0x29e32310e30>"
      ]
     },
     "execution_count": 19,
     "metadata": {},
     "output_type": "execute_result"
    },
    {
     "data": {
      "image/png": "[encoded data removed]",
      "text/plain": [
       "<Figure size 640x480 with 1 Axes>"
      ]
     },
     "metadata": {},
     "output_type": "display_data"
    }
   ],
   "source": [
    "import matplotlib.pyplot as plt\n",
    "sc=plt.scatter(y_test,y_pred,c=test_year)\n",
    "#plt.xlim(3000,32000)\n",
    "#plt.ylim(3000,32000)\n",
    "plt.xlabel('True Values')\n",
    "plt.ylabel('Predictions')\n",
    "\n",
    "lp = lambda i: plt.plot([],color=sc.cmap(sc.norm(i)), mec=\"none\",\n",
    "                        label=\"Year {:g}\".format(i), ls=\"\", marker=\"o\")[0]\n",
    "handles = [lp(i) for i in np.unique(Test[\"Year\"])]\n",
    "plt.legend(handles=handles)"
   ]
  },
  {
   "cell_type": "code",
   "execution_count": 20,
   "metadata": {},
   "outputs": [
    {
     "data": {
      "text/plain": [
       "[<matplotlib.lines.Line2D at 0x29e323d0fe0>]"
      ]
     },
     "execution_count": 20,
     "metadata": {},
     "output_type": "execute_result"
    },
    {
     "data": {
      "image/png": "[encoded data removed]",
      "text/plain": [
       "<Figure size 640x480 with 1 Axes>"
      ]
     },
     "metadata": {},
     "output_type": "display_data"
    }
   ],
   "source": [
    "plt.plot(y_train)"
   ]
  },
  {
   "cell_type": "code",
   "execution_count": 21,
   "metadata": {},
   "outputs": [
    {
     "data": {
      "text/plain": [
       "np.float64(1.0)"
      ]
     },
     "execution_count": 21,
     "metadata": {},
     "output_type": "execute_result"
    }
   ],
   "source": [
    "import numpy as np\n",
    "np.corrcoef(y_test, y_pred)[1, 1]**2"
   ]
  },
  {
   "cell_type": "code",
   "execution_count": 22,
   "metadata": {},
   "outputs": [],
   "source": [
    "X_tmp=x_train=Train[['AccordQueries', 'CPIAll', 'CPIEnergy']]\n",
    "Y_tmp=Train[\"MilesTraveled\"]\n",
    "# X_tmp=x_train=Train[['AccordQueries', 'CPIAll']]\n",
    "# Y_tmp=Train[\"CPIEnergy\"]"
   ]
  },
  {
   "cell_type": "code",
   "execution_count": 23,
   "metadata": {},
   "outputs": [
    {
     "name": "stdout",
     "output_type": "stream",
     "text": [
      "                            OLS Regression Results                            \n",
      "==============================================================================\n",
      "Dep. Variable:          MilesTraveled   R-squared:                       0.944\n",
      "Model:                            OLS   Adj. R-squared:                  0.941\n",
      "Method:                 Least Squares   F-statistic:                     312.9\n",
      "Date:                Mon, 23 Sep 2024   Prob (F-statistic):           6.05e-35\n",
      "Time:                        19:06:00   Log-Likelihood:                -529.69\n",
      "No. Observations:                  60   AIC:                             1067.\n",
      "Df Residuals:                      56   BIC:                             1076.\n",
      "Df Model:                           3                                         \n",
      "Covariance Type:            nonrobust                                         \n",
      "=================================================================================\n",
      "                    coef    std err          t      P>|t|      [0.025      0.975]\n",
      "---------------------------------------------------------------------------------\n",
      "const          4.485e+04    1.1e+04      4.078      0.000    2.28e+04    6.69e+04\n",
      "AccordQueries    27.8517     36.844      0.756      0.453     -45.956     101.659\n",
      "CPIAll         1028.9600     52.956     19.431      0.000     922.877    1135.043\n",
      "CPIEnergy      -159.1405     11.694    -13.609      0.000    -182.566    -135.715\n",
      "==============================================================================\n",
      "Omnibus:                        6.062   Durbin-Watson:                   1.839\n",
      "Prob(Omnibus):                  0.048   Jarque-Bera (JB):                5.100\n",
      "Skew:                           0.619   Prob(JB):                       0.0781\n",
      "Kurtosis:                       3.712   Cond. No.                     1.66e+04\n",
      "==============================================================================\n",
      "\n",
      "Notes:\n",
      "[1] Standard Errors assume that the covariance matrix of the errors is correctly specified.\n",
      "[2] The condition number is large, 1.66e+04. This might indicate that there are\n",
      "strong multicollinearity or other numerical problems.\n"
     ]
    }
   ],
   "source": [
    "import statsmodels.api as sm\n",
    "X_tmp=sm.add_constant(x_train)\n",
    "model=sm.OLS(Y_tmp,X_tmp).fit()\n",
    "print(model.summary())"
   ]
  },
  {
   "cell_type": "code",
   "execution_count": 24,
   "metadata": {},
   "outputs": [
    {
     "data": {
      "text/plain": [
       "np.float64(17.76502108331361)"
      ]
     },
     "execution_count": 24,
     "metadata": {},
     "output_type": "execute_result"
    }
   ],
   "source": [
    "1/(1-model.rsquared)"
   ]
  },
  {
   "cell_type": "code",
   "execution_count": 25,
   "metadata": {},
   "outputs": [],
   "source": [
    "ndf=pd.read_csv(\"bill-rates-2002-2023.csv\")"
   ]
  },
  {
   "cell_type": "code",
   "execution_count": 26,
   "metadata": {},
   "outputs": [
    {
     "data": {
      "text/plain": [
       "Index(['Date', '4 WEEKS BANK DISCOUNT', '4 WEEKS COUPON EQUIVALENT',\n",
       "       '8 WEEKS BANK DISCOUNT', '8 WEEKS COUPON EQUIVALENT',\n",
       "       '13 WEEKS BANK DISCOUNT', '13 WEEKS COUPON EQUIVALENT',\n",
       "       '17 WEEKS BANK DISCOUNT', '17 WEEKS COUPON EQUIVALENT',\n",
       "       '26 WEEKS BANK DISCOUNT', '26 WEEKS COUPON EQUIVALENT',\n",
       "       '52 WEEKS BANK DISCOUNT', '52 WEEKS COUPON EQUIVALENT'],\n",
       "      dtype='object')"
      ]
     },
     "execution_count": 26,
     "metadata": {},
     "output_type": "execute_result"
    }
   ],
   "source": [
    "ndf.columns"
   ]
  },
  {
   "cell_type": "code",
   "execution_count": 27,
   "metadata": {},
   "outputs": [],
   "source": [
    "ndf = ndf[['Date', '4 WEEKS COUPON EQUIVALENT']]"
   ]
  },
  {
   "cell_type": "code",
   "execution_count": 28,
   "metadata": {},
   "outputs": [],
   "source": [
    "def getMedianofMonthYear(ndf):\n",
    "    ndf['Date'] = pd.to_datetime(ndf['Date'])\n",
    "    ndf['Year'] = ndf['Date'].dt.year\n",
    "    ndf['MonthNumeric'] = ndf['Date'].dt.month\n",
    "    ndf['YearMonth'] = ndf['Year'].astype(str) + \"-\" + ndf['MonthNumeric'].astype(str)\n",
    "    ndf['YearMonth'] = pd.to_datetime(ndf['YearMonth'])\n",
    "    ndf['YearMonth'] = ndf['YearMonth'].dt.strftime('%Y-%m')\n",
    "    ndf = ndf.groupby(['YearMonth']).median()\n",
    "    return ndf"
   ]
  },
  {
   "cell_type": "code",
   "execution_count": 29,
   "metadata": {},
   "outputs": [
    {
     "name": "stderr",
     "output_type": "stream",
     "text": [
      "C:\\Users\\Milli\\AppData\\Local\\Temp\\ipykernel_14704\\1202269718.py:2: UserWarning: Could not infer format, so each element will be parsed individually, falling back to `dateutil`. To ensure parsing is consistent and as-expected, please specify a format.\n",
      "  ndf['Date'] = pd.to_datetime(ndf['Date'])\n"
     ]
    }
   ],
   "source": [
    "tmpdf=getMedianofMonthYear(ndf)"
   ]
  },
  {
   "cell_type": "code",
   "execution_count": 30,
   "metadata": {},
   "outputs": [
    {
     "data": {
      "text/plain": [
       "119"
      ]
     },
     "execution_count": 30,
     "metadata": {},
     "output_type": "execute_result"
    }
   ],
   "source": [
    "len(df)"
   ]
  },
  {
   "cell_type": "code",
   "execution_count": 31,
   "metadata": {},
   "outputs": [],
   "source": [
    "# Assuming both df and ndf have 'Year' and 'Month' columns\n",
    "\n",
    "# Merge the two dataframes on 'Year' and 'Month'\n",
    "df = df.merge(tmpdf[['Year', 'MonthNumeric', '4 WEEKS COUPON EQUIVALENT']], on=['Year', 'MonthNumeric'], how='left')\n",
    "\n",
    "# Now 'df' will have the '4 WEEKS COUPON EQUIVALENT' column added\n"
   ]
  },
  {
   "cell_type": "code",
   "execution_count": 32,
   "metadata": {},
   "outputs": [
    {
     "data": {
      "text/html": [
       "<div>\n",
       "<style scoped>\n",
       "    .dataframe tbody tr th:only-of-type {\n",
       "        vertical-align: middle;\n",
       "    }\n",
       "\n",
       "    .dataframe tbody tr th {\n",
       "        vertical-align: top;\n",
       "    }\n",
       "\n",
       "    .dataframe thead th {\n",
       "        text-align: right;\n",
       "    }\n",
       "</style>\n",
       "<table border=\"1\" class=\"dataframe\">\n",
       "  <thead>\n",
       "    <tr style=\"text-align: right;\">\n",
       "      <th></th>\n",
       "      <th>MonthNumeric</th>\n",
       "      <th>MonthFactor</th>\n",
       "      <th>Year</th>\n",
       "      <th>AccordSales</th>\n",
       "      <th>Unemployment</th>\n",
       "      <th>AccordQueries</th>\n",
       "      <th>CPIAll</th>\n",
       "      <th>CPIEnergy</th>\n",
       "      <th>MilesTraveled</th>\n",
       "      <th>Is_August</th>\n",
       "      <th>...</th>\n",
       "      <th>Is_February</th>\n",
       "      <th>Is_January</th>\n",
       "      <th>Is_July</th>\n",
       "      <th>Is_June</th>\n",
       "      <th>Is_March</th>\n",
       "      <th>Is_May</th>\n",
       "      <th>Is_November</th>\n",
       "      <th>Is_October</th>\n",
       "      <th>Is_September</th>\n",
       "      <th>4 WEEKS COUPON EQUIVALENT</th>\n",
       "    </tr>\n",
       "  </thead>\n",
       "  <tbody>\n",
       "    <tr>\n",
       "      <th>0</th>\n",
       "      <td>1</td>\n",
       "      <td>January</td>\n",
       "      <td>2014</td>\n",
       "      <td>20604</td>\n",
       "      <td>6.6</td>\n",
       "      <td>69</td>\n",
       "      <td>235.288</td>\n",
       "      <td>250.340</td>\n",
       "      <td>246531</td>\n",
       "      <td>0</td>\n",
       "      <td>...</td>\n",
       "      <td>0</td>\n",
       "      <td>1</td>\n",
       "      <td>0</td>\n",
       "      <td>0</td>\n",
       "      <td>0</td>\n",
       "      <td>0</td>\n",
       "      <td>0</td>\n",
       "      <td>0</td>\n",
       "      <td>0</td>\n",
       "      <td>0.01</td>\n",
       "    </tr>\n",
       "    <tr>\n",
       "      <th>1</th>\n",
       "      <td>2</td>\n",
       "      <td>February</td>\n",
       "      <td>2014</td>\n",
       "      <td>24622</td>\n",
       "      <td>6.7</td>\n",
       "      <td>74</td>\n",
       "      <td>235.547</td>\n",
       "      <td>249.925</td>\n",
       "      <td>249499</td>\n",
       "      <td>0</td>\n",
       "      <td>...</td>\n",
       "      <td>1</td>\n",
       "      <td>0</td>\n",
       "      <td>0</td>\n",
       "      <td>0</td>\n",
       "      <td>0</td>\n",
       "      <td>0</td>\n",
       "      <td>0</td>\n",
       "      <td>0</td>\n",
       "      <td>0</td>\n",
       "      <td>0.04</td>\n",
       "    </tr>\n",
       "    <tr>\n",
       "      <th>2</th>\n",
       "      <td>3</td>\n",
       "      <td>March</td>\n",
       "      <td>2014</td>\n",
       "      <td>33962</td>\n",
       "      <td>6.7</td>\n",
       "      <td>79</td>\n",
       "      <td>236.028</td>\n",
       "      <td>249.961</td>\n",
       "      <td>251120</td>\n",
       "      <td>0</td>\n",
       "      <td>...</td>\n",
       "      <td>0</td>\n",
       "      <td>0</td>\n",
       "      <td>0</td>\n",
       "      <td>0</td>\n",
       "      <td>1</td>\n",
       "      <td>0</td>\n",
       "      <td>0</td>\n",
       "      <td>0</td>\n",
       "      <td>0</td>\n",
       "      <td>0.05</td>\n",
       "    </tr>\n",
       "    <tr>\n",
       "      <th>3</th>\n",
       "      <td>4</td>\n",
       "      <td>April</td>\n",
       "      <td>2014</td>\n",
       "      <td>34124</td>\n",
       "      <td>6.2</td>\n",
       "      <td>74</td>\n",
       "      <td>236.468</td>\n",
       "      <td>249.864</td>\n",
       "      <td>251959</td>\n",
       "      <td>0</td>\n",
       "      <td>...</td>\n",
       "      <td>0</td>\n",
       "      <td>0</td>\n",
       "      <td>0</td>\n",
       "      <td>0</td>\n",
       "      <td>0</td>\n",
       "      <td>0</td>\n",
       "      <td>0</td>\n",
       "      <td>0</td>\n",
       "      <td>0</td>\n",
       "      <td>0.02</td>\n",
       "    </tr>\n",
       "    <tr>\n",
       "      <th>4</th>\n",
       "      <td>5</td>\n",
       "      <td>May</td>\n",
       "      <td>2014</td>\n",
       "      <td>39637</td>\n",
       "      <td>6.3</td>\n",
       "      <td>75</td>\n",
       "      <td>236.918</td>\n",
       "      <td>249.213</td>\n",
       "      <td>252289</td>\n",
       "      <td>0</td>\n",
       "      <td>...</td>\n",
       "      <td>0</td>\n",
       "      <td>0</td>\n",
       "      <td>0</td>\n",
       "      <td>0</td>\n",
       "      <td>0</td>\n",
       "      <td>1</td>\n",
       "      <td>0</td>\n",
       "      <td>0</td>\n",
       "      <td>0</td>\n",
       "      <td>0.03</td>\n",
       "    </tr>\n",
       "    <tr>\n",
       "      <th>5</th>\n",
       "      <td>6</td>\n",
       "      <td>June</td>\n",
       "      <td>2014</td>\n",
       "      <td>32329</td>\n",
       "      <td>6.1</td>\n",
       "      <td>76</td>\n",
       "      <td>237.231</td>\n",
       "      <td>249.714</td>\n",
       "      <td>252054</td>\n",
       "      <td>0</td>\n",
       "      <td>...</td>\n",
       "      <td>0</td>\n",
       "      <td>0</td>\n",
       "      <td>0</td>\n",
       "      <td>1</td>\n",
       "      <td>0</td>\n",
       "      <td>0</td>\n",
       "      <td>0</td>\n",
       "      <td>0</td>\n",
       "      <td>0</td>\n",
       "      <td>0.02</td>\n",
       "    </tr>\n",
       "    <tr>\n",
       "      <th>6</th>\n",
       "      <td>7</td>\n",
       "      <td>July</td>\n",
       "      <td>2014</td>\n",
       "      <td>35073</td>\n",
       "      <td>6.2</td>\n",
       "      <td>81</td>\n",
       "      <td>237.498</td>\n",
       "      <td>248.744</td>\n",
       "      <td>252111</td>\n",
       "      <td>0</td>\n",
       "      <td>...</td>\n",
       "      <td>0</td>\n",
       "      <td>0</td>\n",
       "      <td>1</td>\n",
       "      <td>0</td>\n",
       "      <td>0</td>\n",
       "      <td>0</td>\n",
       "      <td>0</td>\n",
       "      <td>0</td>\n",
       "      <td>0</td>\n",
       "      <td>0.02</td>\n",
       "    </tr>\n",
       "    <tr>\n",
       "      <th>7</th>\n",
       "      <td>8</td>\n",
       "      <td>August</td>\n",
       "      <td>2014</td>\n",
       "      <td>51075</td>\n",
       "      <td>6.1</td>\n",
       "      <td>80</td>\n",
       "      <td>237.460</td>\n",
       "      <td>245.699</td>\n",
       "      <td>252472</td>\n",
       "      <td>1</td>\n",
       "      <td>...</td>\n",
       "      <td>0</td>\n",
       "      <td>0</td>\n",
       "      <td>0</td>\n",
       "      <td>0</td>\n",
       "      <td>0</td>\n",
       "      <td>0</td>\n",
       "      <td>0</td>\n",
       "      <td>0</td>\n",
       "      <td>0</td>\n",
       "      <td>0.03</td>\n",
       "    </tr>\n",
       "    <tr>\n",
       "      <th>8</th>\n",
       "      <td>9</td>\n",
       "      <td>September</td>\n",
       "      <td>2014</td>\n",
       "      <td>32956</td>\n",
       "      <td>5.9</td>\n",
       "      <td>75</td>\n",
       "      <td>237.477</td>\n",
       "      <td>241.610</td>\n",
       "      <td>253485</td>\n",
       "      <td>0</td>\n",
       "      <td>...</td>\n",
       "      <td>0</td>\n",
       "      <td>0</td>\n",
       "      <td>0</td>\n",
       "      <td>0</td>\n",
       "      <td>0</td>\n",
       "      <td>0</td>\n",
       "      <td>0</td>\n",
       "      <td>0</td>\n",
       "      <td>1</td>\n",
       "      <td>0.01</td>\n",
       "    </tr>\n",
       "    <tr>\n",
       "      <th>9</th>\n",
       "      <td>10</td>\n",
       "      <td>October</td>\n",
       "      <td>2014</td>\n",
       "      <td>27189</td>\n",
       "      <td>5.7</td>\n",
       "      <td>70</td>\n",
       "      <td>237.430</td>\n",
       "      <td>237.061</td>\n",
       "      <td>254117</td>\n",
       "      <td>0</td>\n",
       "      <td>...</td>\n",
       "      <td>0</td>\n",
       "      <td>0</td>\n",
       "      <td>0</td>\n",
       "      <td>0</td>\n",
       "      <td>0</td>\n",
       "      <td>0</td>\n",
       "      <td>0</td>\n",
       "      <td>1</td>\n",
       "      <td>0</td>\n",
       "      <td>0.02</td>\n",
       "    </tr>\n",
       "  </tbody>\n",
       "</table>\n",
       "<p>10 rows × 21 columns</p>\n",
       "</div>"
      ],
      "text/plain": [
       "   MonthNumeric MonthFactor  Year  AccordSales  Unemployment  AccordQueries  \\\n",
       "0             1     January  2014        20604           6.6             69   \n",
       "1             2    February  2014        24622           6.7             74   \n",
       "2             3       March  2014        33962           6.7             79   \n",
       "3             4       April  2014        34124           6.2             74   \n",
       "4             5         May  2014        39637           6.3             75   \n",
       "5             6        June  2014        32329           6.1             76   \n",
       "6             7        July  2014        35073           6.2             81   \n",
       "7             8      August  2014        51075           6.1             80   \n",
       "8             9   September  2014        32956           5.9             75   \n",
       "9            10     October  2014        27189           5.7             70   \n",
       "\n",
       "    CPIAll  CPIEnergy  MilesTraveled  Is_August  ...  Is_February  Is_January  \\\n",
       "0  235.288    250.340         246531          0  ...            0           1   \n",
       "1  235.547    249.925         249499          0  ...            1           0   \n",
       "2  236.028    249.961         251120          0  ...            0           0   \n",
       "3  236.468    249.864         251959          0  ...            0           0   \n",
       "4  236.918    249.213         252289          0  ...            0           0   \n",
       "5  237.231    249.714         252054          0  ...            0           0   \n",
       "6  237.498    248.744         252111          0  ...            0           0   \n",
       "7  237.460    245.699         252472          1  ...            0           0   \n",
       "8  237.477    241.610         253485          0  ...            0           0   \n",
       "9  237.430    237.061         254117          0  ...            0           0   \n",
       "\n",
       "   Is_July  Is_June  Is_March  Is_May  Is_November  Is_October  Is_September  \\\n",
       "0        0        0         0       0            0           0             0   \n",
       "1        0        0         0       0            0           0             0   \n",
       "2        0        0         1       0            0           0             0   \n",
       "3        0        0         0       0            0           0             0   \n",
       "4        0        0         0       1            0           0             0   \n",
       "5        0        1         0       0            0           0             0   \n",
       "6        1        0         0       0            0           0             0   \n",
       "7        0        0         0       0            0           0             0   \n",
       "8        0        0         0       0            0           0             1   \n",
       "9        0        0         0       0            0           1             0   \n",
       "\n",
       "   4 WEEKS COUPON EQUIVALENT  \n",
       "0                       0.01  \n",
       "1                       0.04  \n",
       "2                       0.05  \n",
       "3                       0.02  \n",
       "4                       0.03  \n",
       "5                       0.02  \n",
       "6                       0.02  \n",
       "7                       0.03  \n",
       "8                       0.01  \n",
       "9                       0.02  \n",
       "\n",
       "[10 rows x 21 columns]"
      ]
     },
     "execution_count": 32,
     "metadata": {},
     "output_type": "execute_result"
    }
   ],
   "source": [
    "df.head(10)"
   ]
  },
  {
   "cell_type": "code",
   "execution_count": 33,
   "metadata": {},
   "outputs": [],
   "source": [
    "Train = df[(df['Year'] <= 2018)]\n",
    "Test = df[(df['Year'] >= 2019) & (df['Year'] < 9999)]\n",
    "x_train=Train.iloc[:,4:]\n",
    "y_train=Train['AccordSales']\n",
    "x_test=Test.iloc[:,4:]\n",
    "y_test=Test['AccordSales']\n",
    "test_year=Test['Year']\n",
    "x_train=x_train.drop(columns=['Is_October','Is_March','Is_June','Is_July','Is_November','Is_September','Unemployment','MilesTraveled'])\n",
    "x_test=x_test.drop(columns=['Is_October','Is_March','Is_June','Is_July','Is_November','Is_September','Unemployment','MilesTraveled'])"
   ]
  },
  {
   "cell_type": "code",
   "execution_count": 34,
   "metadata": {},
   "outputs": [
    {
     "name": "stdout",
     "output_type": "stream",
     "text": [
      "                            OLS Regression Results                            \n",
      "==============================================================================\n",
      "Dep. Variable:            AccordSales   R-squared:                       0.710\n",
      "Model:                            OLS   Adj. R-squared:                  0.658\n",
      "Method:                 Least Squares   F-statistic:                     13.63\n",
      "Date:                Mon, 23 Sep 2024   Prob (F-statistic):           1.01e-10\n",
      "Time:                        19:06:00   Log-Likelihood:                -567.22\n",
      "No. Observations:                  60   AIC:                             1154.\n",
      "Df Residuals:                      50   BIC:                             1175.\n",
      "Df Model:                           9                                         \n",
      "Covariance Type:            nonrobust                                         \n",
      "=============================================================================================\n",
      "                                coef    std err          t      P>|t|      [0.025      0.975]\n",
      "---------------------------------------------------------------------------------------------\n",
      "const                      1.114e+05   8.35e+04      1.334      0.188   -5.63e+04    2.79e+05\n",
      "AccordQueries               161.8093     83.679      1.934      0.059      -6.266     329.884\n",
      "CPIAll                     -448.1742    355.185     -1.262      0.213   -1161.584     265.236\n",
      "CPIEnergy                    61.6586     24.429      2.524      0.015      12.591     110.726\n",
      "Is_August                  6686.0332   1672.374      3.998      0.000    3326.972       1e+04\n",
      "Is_December                4078.4799   1758.294      2.320      0.024     546.843    7610.117\n",
      "Is_February               -6076.3150   1631.324     -3.725      0.000   -9352.925   -2799.705\n",
      "Is_January                -8926.1624   1645.793     -5.424      0.000   -1.22e+04   -5620.490\n",
      "Is_May                     4103.8619   1627.688      2.521      0.015     834.554    7373.170\n",
      "4 WEEKS COUPON EQUIVALENT -1449.0778   2667.680     -0.543      0.589   -6807.271    3909.115\n",
      "==============================================================================\n",
      "Omnibus:                        6.896   Durbin-Watson:                   1.559\n",
      "Prob(Omnibus):                  0.032   Jarque-Bera (JB):                9.826\n",
      "Skew:                           0.297   Prob(JB):                      0.00735\n",
      "Kurtosis:                       4.892   Cond. No.                     6.36e+04\n",
      "==============================================================================\n",
      "\n",
      "Notes:\n",
      "[1] Standard Errors assume that the covariance matrix of the errors is correctly specified.\n",
      "[2] The condition number is large, 6.36e+04. This might indicate that there are\n",
      "strong multicollinearity or other numerical problems.\n"
     ]
    }
   ],
   "source": [
    "X_train=sm.add_constant(x_train)\n",
    "X_test=sm.add_constant(x_test)\n",
    "model=sm.OLS(y_train,X_train).fit()\n",
    "print(model.summary())"
   ]
  },
  {
   "cell_type": "code",
   "execution_count": 35,
   "metadata": {},
   "outputs": [
    {
     "name": "stdout",
     "output_type": "stream",
     "text": [
      "0.45203526430039953\n"
     ]
    }
   ],
   "source": [
    "y_pred = model.predict(X_test)\n",
    "print(OSR2(y_test,y_pred,y_train))"
   ]
  },
  {
   "cell_type": "code",
   "execution_count": 36,
   "metadata": {},
   "outputs": [
    {
     "data": {
      "text/plain": [
       "-3.133607333628631"
      ]
     },
     "execution_count": 36,
     "metadata": {},
     "output_type": "execute_result"
    }
   ],
   "source": [
    "y_pred = model.predict(X_test)\n",
    "sklearn.metrics.r2_score(y_test, y_pred)"
   ]
  },
  {
   "cell_type": "code",
   "execution_count": null,
   "metadata": {},
   "outputs": [],
   "source": [
    "!pip install -U notebook-as-pdf"
   ]
  }
 ],
 "metadata": {
  "kernelspec": {
   "display_name": "Python 3",
   "language": "python",
   "name": "python3"
  },
  "language_info": {
   "codemirror_mode": {
    "name": "ipython",
    "version": 3
   },
   "file_extension": ".py",
   "mimetype": "text/x-python",
   "name": "python",
   "nbconvert_exporter": "python",
   "pygments_lexer": "ipython3",
   "version": "3.12.5"
  }
 },
 "nbformat": 4,
 "nbformat_minor": 2
}
